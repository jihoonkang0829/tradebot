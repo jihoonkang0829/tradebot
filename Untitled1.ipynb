{
 "cells": [
  {
   "cell_type": "code",
   "execution_count": 1,
   "id": "ultimate-folder",
   "metadata": {},
   "outputs": [],
   "source": [
    "import torch\n",
    "import torch.nn as nn\n",
    "import pandas as pd\n",
    "import numpy as np\n",
    "import matplotlib.pyplot as plt"
   ]
  },
  {
   "cell_type": "code",
   "execution_count": 2,
   "id": "relative-looking",
   "metadata": {},
   "outputs": [],
   "source": [
    "hourdata_df = pd.read_csv('./assets/BTCUSDTMIN.csv', usecols=['unix', 'close', 'Volume USDT'])\n",
    "hourdata = hourdata_df.to_numpy()\n",
    "hourdata[hourdata == 0] = 0.0000000000000001\n",
    "hourcalc = hourdata[:, 1:3]\n",
    "hourcalc = (np.log(hourcalc) - np.log(np.roll(hourcalc, -1, axis =0)))[:-1]\n",
    "hourdata = hourdata[:-1]\n",
    "hourdata[:, 1:3] = hourcalc\n",
    "hourdf = pd.DataFrame(data=hourdata, columns=['unix', 'Close', 'volume'])\n",
    "\n"
   ]
  },
  {
   "cell_type": "code",
   "execution_count": 3,
   "id": "ideal-senate",
   "metadata": {},
   "outputs": [],
   "source": [
    "%matplotlib widget"
   ]
  },
  {
   "cell_type": "code",
   "execution_count": 4,
   "id": "lasting-waste",
   "metadata": {},
   "outputs": [
    {
     "name": "stdout",
     "output_type": "stream",
     "text": [
      "[            nan  2.16566779e-04  9.37957043e-05 ... -1.15091437e-04\n",
      "  1.65158809e-03 -1.53075019e-03]\n",
      "143459\n",
      "[     nan      nan      nan ... 59173.75      nan 59166.6 ]\n"
     ]
    }
   ],
   "source": [
    "hdf_arr = hourdf['Close'].to_numpy()\n",
    "raw = hourdata_df['close'].to_numpy()\n",
    "hdf_arr_short = np.array(hdf_arr, copy = True)\n",
    "hdf_arr_long = np.array(hdf_arr, copy = True)\n",
    "\n",
    "hdf_arr_short = np.insert(hdf_arr_short, 0, None)\n",
    "hdf_arr_short[hdf_arr_short > 0] = raw[hdf_arr_short > 0]\n",
    "hdf_arr_short[hdf_arr_short <= 0] = None\n",
    "\n",
    "hdf_arr_long = np.insert(hdf_arr_long, 0, None)\n",
    "print(hdf_arr_long)\n",
    "hdf_arr_long[hdf_arr_long >= 0] = None\n",
    "hdf_arr_long[hdf_arr_long < 0] = raw[hdf_arr_long < 0]\n",
    "print(np.sum(hdf_arr_long >= 0))\n",
    "print(hdf_arr_long)"
   ]
  },
  {
   "cell_type": "code",
   "execution_count": 5,
   "id": "distant-madison",
   "metadata": {},
   "outputs": [
    {
     "data": {
      "text/plain": [
       "False"
      ]
     },
     "execution_count": 5,
     "metadata": {},
     "output_type": "execute_result"
    }
   ],
   "source": [
    "np.nan < 0"
   ]
  },
  {
   "cell_type": "code",
   "execution_count": 6,
   "id": "korean-evening",
   "metadata": {},
   "outputs": [
    {
     "data": {
      "application/vnd.jupyter.widget-view+json": {
       "model_id": "67bee186d51c4e8d8438a8c40aae3949",
       "version_major": 2,
       "version_minor": 0
      },
      "text/plain": [
       "Canvas(toolbar=Toolbar(toolitems=[('Home', 'Reset original view', 'home', 'home'), ('Back', 'Back to previous …"
      ]
     },
     "metadata": {},
     "output_type": "display_data"
    }
   ],
   "source": [
    "fig, ax = plt.subplots(2, sharex = True)\n",
    "# plt.axis([0, num_epochs, 0, 8000])\n",
    "color = 'tab:blue'\n",
    "ax[0].set_xlabel('Time')\n",
    "ax[0].set_ylabel('Close', color = color)\n",
    "ax[0].plot(hourdata_df['close'], color = color)\n",
    "ax[0].scatter(np.arange(len(hdf_arr_short)), hdf_arr_short, color = 'tab:red')\n",
    "ax[0].scatter(np.arange(len(hdf_arr_long)), hdf_arr_long, color = 'tab:green')\n",
    "# ax[0].tick_params(axis='y', labelcolor = color)\n",
    "\n",
    "color = 'tab:blue'\n",
    "# ax[1] = ax1.twinx()\n",
    "ax[1].set_ylabel('log_norm', color = color)\n",
    "ax[1].plot(hourdf['Close'], color = color)\n",
    "ax[1].tick_params(axis='y', labelcolor = color)\n",
    "# ax[1].autoscale(True, 'y')\n",
    "# plt.title('Model Loss and Accuracy by Epoch')\n",
    "fig.set_size_inches(9, 6)"
   ]
  },
  {
   "cell_type": "code",
   "execution_count": 7,
   "id": "light-ridge",
   "metadata": {},
   "outputs": [],
   "source": [
    "y = np.concatenate((hdf_arr_long.reshape(-1, 1), hdf_arr_short.reshape(-1, 1)), axis = 1)\n",
    "y = np.nan_to_num(y, 0)\n",
    "y = np.where(y > 0, 1, y)\n",
    "y = y.astype(int)\n"
   ]
  },
  {
   "cell_type": "code",
   "execution_count": 13,
   "id": "statistical-finance",
   "metadata": {},
   "outputs": [
    {
     "name": "stdout",
     "output_type": "stream",
     "text": [
      "289414\n",
      "289413\n"
     ]
    }
   ],
   "source": [
    "print(len(y))\n",
    "print(len(hourdf['Close']))"
   ]
  },
  {
   "cell_type": "code",
   "execution_count": null,
   "id": "domestic-roads",
   "metadata": {},
   "outputs": [],
   "source": []
  }
 ],
 "metadata": {
  "kernelspec": {
   "display_name": "Python 3",
   "language": "python",
   "name": "python3"
  },
  "language_info": {
   "codemirror_mode": {
    "name": "ipython",
    "version": 3
   },
   "file_extension": ".py",
   "mimetype": "text/x-python",
   "name": "python",
   "nbconvert_exporter": "python",
   "pygments_lexer": "ipython3",
   "version": "3.7.9"
  }
 },
 "nbformat": 4,
 "nbformat_minor": 5
}
