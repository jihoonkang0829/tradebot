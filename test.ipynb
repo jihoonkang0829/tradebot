{
 "cells": [
  {
   "cell_type": "code",
   "execution_count": 1,
   "metadata": {},
   "outputs": [],
   "source": [
    "from assets.credentials import *\n",
    "import torch\n",
    "import torch.nn as nn\n",
    "import torch.nn.functional as F\n",
    "import torch.optim as optim\n",
    "import numpy as np\n",
    "import pandas as pd\n",
    "import matplotlib.pyplot as plt\n",
    "\n",
    "from binance.client import Client"
   ]
  },
  {
   "cell_type": "code",
   "execution_count": 2,
   "metadata": {},
   "outputs": [],
   "source": [
    "client = Client(api_key=BINANCE_KEY, api_secret=BIANCE_SECRET)"
   ]
  },
  {
   "cell_type": "code",
   "execution_count": 20,
   "metadata": {},
   "outputs": [],
   "source": [
    "prices = client.get_historical_klines(symbol='BTCUSDT', interval = Client.KLINE_INTERVAL_1MINUTE, start_str=1451628000000, limit = 1000)"
   ]
  },
  {
   "cell_type": "code",
   "execution_count": 21,
   "metadata": {},
   "outputs": [],
   "source": [
    "prices_array = np.array(prices)\n",
    "prices_array = prices_array.T"
   ]
  },
  {
   "cell_type": "code",
   "execution_count": 22,
   "metadata": {},
   "outputs": [
    {
     "data": {
      "text/plain": [
       "array(['1502942400000', '1502942460000', '1502942520000', ...,\n",
       "       '1613600520000', '1613600580000', '1613600640000'], dtype='<U21')"
      ]
     },
     "execution_count": 22,
     "metadata": {},
     "output_type": "execute_result"
    }
   ],
   "source": [
    "prices_array[0]"
   ]
  },
  {
   "cell_type": "code",
   "execution_count": 25,
   "metadata": {},
   "outputs": [],
   "source": [
    "df = pd.DataFrame()\n",
    "df['Time'] = prices_array[0].astype('int')\n",
    "df['Open'] = prices_array[1].astype('float')\n",
    "df['High'] = prices_array[2].astype('float')\n",
    "df['Low'] = prices_array[3].astype('float')\n",
    "df['Close'] = prices_array[4].astype('float')\n",
    "df['Volume'] = prices_array[5].astype('float')\n",
    "df['Trades'] = prices_array[8].astype('int')"
   ]
  },
  {
   "cell_type": "code",
   "execution_count": 27,
   "metadata": {},
   "outputs": [],
   "source": [
    "df.to_csv('assets/BTCUSDT_historical.csv')"
   ]
  },
  {
   "cell_type": "code",
   "execution_count": 41,
   "metadata": {},
   "outputs": [
    {
     "data": {
      "text/plain": [
       "[<matplotlib.lines.Line2D at 0x7f9342f62190>]"
      ]
     },
     "execution_count": 41,
     "metadata": {},
     "output_type": "execute_result"
    },
    {
     "data": {
      "image/png": "[encoded data removed]",
      "text/plain": [
       "<Figure size 432x288 with 1 Axes>"
      ]
     },
     "metadata": {
      "needs_background": "light"
     },
     "output_type": "display_data"
    }
   ],
   "source": [
    "plt.plot(df['Time'], df['High'])"
   ]
  },
  {
   "cell_type": "code",
   "execution_count": 36,
   "metadata": {},
   "outputs": [],
   "source": [
    "df['Time'] = prices_array[0].astype('int')"
   ]
  },
  {
   "cell_type": "code",
   "execution_count": 38,
   "metadata": {},
   "outputs": [],
   "source": [
    "df['Time'] = pd.to_datetime(df['Time'], unit='ms')"
   ]
  },
  {
   "cell_type": "code",
   "execution_count": 39,
   "metadata": {},
   "outputs": [
    {
     "data": {
      "text/html": [
       "<div>\n",
       "<style scoped>\n",
       "    .dataframe tbody tr th:only-of-type {\n",
       "        vertical-align: middle;\n",
       "    }\n",
       "\n",
       "    .dataframe tbody tr th {\n",
       "        vertical-align: top;\n",
       "    }\n",
       "\n",
       "    .dataframe thead th {\n",
       "        text-align: right;\n",
       "    }\n",
       "</style>\n",
       "<table border=\"1\" class=\"dataframe\">\n",
       "  <thead>\n",
       "    <tr style=\"text-align: right;\">\n",
       "      <th></th>\n",
       "      <th>Time</th>\n",
       "      <th>Open</th>\n",
       "      <th>High</th>\n",
       "      <th>Low</th>\n",
       "      <th>Close</th>\n",
       "      <th>Volume</th>\n",
       "      <th>Trades</th>\n",
       "    </tr>\n",
       "  </thead>\n",
       "  <tbody>\n",
       "    <tr>\n",
       "      <th>0</th>\n",
       "      <td>2017-08-17 04:00:00</td>\n",
       "      <td>4261.48</td>\n",
       "      <td>4261.48</td>\n",
       "      <td>4261.48</td>\n",
       "      <td>4261.48</td>\n",
       "      <td>1.775183</td>\n",
       "      <td>3</td>\n",
       "    </tr>\n",
       "    <tr>\n",
       "      <th>1</th>\n",
       "      <td>2017-08-17 04:01:00</td>\n",
       "      <td>4261.48</td>\n",
       "      <td>4261.48</td>\n",
       "      <td>4261.48</td>\n",
       "      <td>4261.48</td>\n",
       "      <td>0.000000</td>\n",
       "      <td>0</td>\n",
       "    </tr>\n",
       "    <tr>\n",
       "      <th>2</th>\n",
       "      <td>2017-08-17 04:02:00</td>\n",
       "      <td>4280.56</td>\n",
       "      <td>4280.56</td>\n",
       "      <td>4280.56</td>\n",
       "      <td>4280.56</td>\n",
       "      <td>0.261074</td>\n",
       "      <td>2</td>\n",
       "    </tr>\n",
       "    <tr>\n",
       "      <th>3</th>\n",
       "      <td>2017-08-17 04:03:00</td>\n",
       "      <td>4261.48</td>\n",
       "      <td>4261.48</td>\n",
       "      <td>4261.48</td>\n",
       "      <td>4261.48</td>\n",
       "      <td>0.012008</td>\n",
       "      <td>3</td>\n",
       "    </tr>\n",
       "    <tr>\n",
       "      <th>4</th>\n",
       "      <td>2017-08-17 04:04:00</td>\n",
       "      <td>4261.48</td>\n",
       "      <td>4261.48</td>\n",
       "      <td>4261.48</td>\n",
       "      <td>4261.48</td>\n",
       "      <td>0.140796</td>\n",
       "      <td>1</td>\n",
       "    </tr>\n",
       "    <tr>\n",
       "      <th>...</th>\n",
       "      <td>...</td>\n",
       "      <td>...</td>\n",
       "      <td>...</td>\n",
       "      <td>...</td>\n",
       "      <td>...</td>\n",
       "      <td>...</td>\n",
       "      <td>...</td>\n",
       "    </tr>\n",
       "    <tr>\n",
       "      <th>1836733</th>\n",
       "      <td>2021-02-17 22:20:00</td>\n",
       "      <td>52173.13</td>\n",
       "      <td>52185.45</td>\n",
       "      <td>52167.10</td>\n",
       "      <td>52170.18</td>\n",
       "      <td>21.472415</td>\n",
       "      <td>1023</td>\n",
       "    </tr>\n",
       "    <tr>\n",
       "      <th>1836734</th>\n",
       "      <td>2021-02-17 22:21:00</td>\n",
       "      <td>52170.18</td>\n",
       "      <td>52178.14</td>\n",
       "      <td>52136.09</td>\n",
       "      <td>52156.73</td>\n",
       "      <td>24.210838</td>\n",
       "      <td>968</td>\n",
       "    </tr>\n",
       "    <tr>\n",
       "      <th>1836735</th>\n",
       "      <td>2021-02-17 22:22:00</td>\n",
       "      <td>52156.73</td>\n",
       "      <td>52182.86</td>\n",
       "      <td>52136.13</td>\n",
       "      <td>52170.37</td>\n",
       "      <td>20.951211</td>\n",
       "      <td>872</td>\n",
       "    </tr>\n",
       "    <tr>\n",
       "      <th>1836736</th>\n",
       "      <td>2021-02-17 22:23:00</td>\n",
       "      <td>52172.19</td>\n",
       "      <td>52183.78</td>\n",
       "      <td>52165.05</td>\n",
       "      <td>52169.52</td>\n",
       "      <td>29.290552</td>\n",
       "      <td>1148</td>\n",
       "    </tr>\n",
       "    <tr>\n",
       "      <th>1836737</th>\n",
       "      <td>2021-02-17 22:24:00</td>\n",
       "      <td>52169.52</td>\n",
       "      <td>52213.46</td>\n",
       "      <td>52169.52</td>\n",
       "      <td>52187.94</td>\n",
       "      <td>21.358549</td>\n",
       "      <td>805</td>\n",
       "    </tr>\n",
       "  </tbody>\n",
       "</table>\n",
       "<p>1836738 rows × 7 columns</p>\n",
       "</div>"
      ],
      "text/plain": [
       "                       Time      Open      High       Low     Close  \\\n",
       "0       2017-08-17 04:00:00   4261.48   4261.48   4261.48   4261.48   \n",
       "1       2017-08-17 04:01:00   4261.48   4261.48   4261.48   4261.48   \n",
       "2       2017-08-17 04:02:00   4280.56   4280.56   4280.56   4280.56   \n",
       "3       2017-08-17 04:03:00   4261.48   4261.48   4261.48   4261.48   \n",
       "4       2017-08-17 04:04:00   4261.48   4261.48   4261.48   4261.48   \n",
       "...                     ...       ...       ...       ...       ...   \n",
       "1836733 2021-02-17 22:20:00  52173.13  52185.45  52167.10  52170.18   \n",
       "1836734 2021-02-17 22:21:00  52170.18  52178.14  52136.09  52156.73   \n",
       "1836735 2021-02-17 22:22:00  52156.73  52182.86  52136.13  52170.37   \n",
       "1836736 2021-02-17 22:23:00  52172.19  52183.78  52165.05  52169.52   \n",
       "1836737 2021-02-17 22:24:00  52169.52  52213.46  52169.52  52187.94   \n",
       "\n",
       "            Volume  Trades  \n",
       "0         1.775183       3  \n",
       "1         0.000000       0  \n",
       "2         0.261074       2  \n",
       "3         0.012008       3  \n",
       "4         0.140796       1  \n",
       "...            ...     ...  \n",
       "1836733  21.472415    1023  \n",
       "1836734  24.210838     968  \n",
       "1836735  20.951211     872  \n",
       "1836736  29.290552    1148  \n",
       "1836737  21.358549     805  \n",
       "\n",
       "[1836738 rows x 7 columns]"
      ]
     },
     "execution_count": 39,
     "metadata": {},
     "output_type": "execute_result"
    }
   ],
   "source": [
    "df"
   ]
  },
  {
   "cell_type": "code",
   "execution_count": 40,
   "metadata": {},
   "outputs": [
    {
     "data": {
      "text/plain": [
       "'1502942400000'"
      ]
     },
     "execution_count": 40,
     "metadata": {},
     "output_type": "execute_result"
    }
   ],
   "source": [
    "prices_array[0][0]"
   ]
  },
  {
   "cell_type": "code",
   "execution_count": null,
   "metadata": {},
   "outputs": [],
   "source": []
  }
 ],
 "metadata": {
  "kernelspec": {
   "display_name": "Python 3",
   "language": "python",
   "name": "python3"
  },
  "language_info": {
   "codemirror_mode": {
    "name": "ipython",
    "version": 3
   },
   "file_extension": ".py",
   "mimetype": "text/x-python",
   "name": "python",
   "nbconvert_exporter": "python",
   "pygments_lexer": "ipython3",
   "version": "3.7.9"
  }
 },
 "nbformat": 4,
 "nbformat_minor": 2
}
